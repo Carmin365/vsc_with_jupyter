{
 "cells": [
  {
   "cell_type": "code",
   "execution_count": null,
   "metadata": {},
   "outputs": [],
   "source": [
    "from flask import Flask\n",
    "\n",
    "app = Flask(__name__)\n",
    "\n",
    "@app.route('/')\n",
    "\n",
    "def hello():\n",
    "    \n",
    "    return 'Back-end with Flask!'\n",
    "\n",
    "if __name__ == '__main__': \n",
    "    \n",
    "    app.run(host = 'localhost', port=5000)\n",
    "    \n",
    "     \n",
    "\n",
    " "
   ]
  }
 ],
 "metadata": {
  "language_info": {
   "name": "python"
  }
 },
 "nbformat": 4,
 "nbformat_minor": 2
}
