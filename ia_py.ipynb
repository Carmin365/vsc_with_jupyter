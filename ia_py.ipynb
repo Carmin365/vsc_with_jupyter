{
 "cells": [
  {
   "cell_type": "code",
   "execution_count": null,
   "metadata": {},
   "outputs": [],
   "source": [
    "# Importando as bibliotecas necessárias\n",
    "import tensorflow as tf\n",
    "import pandas as pd\n",
    "from sklearn.datasets import load_iris\n",
    "from sklearn.model_selection import train_test_split\n",
    "from sklearn.preprocessing import StandardScaler\n",
    "from sklearn.metrics import accuracy_score\n",
    "\n",
    "# Carregando o conjunto de dados Iris\n",
    "iris = load_iris()\n",
    "X = iris.data  # Características (comprimento e largura das sépalas e pétalas)\n",
    "y = iris.target  # Classes (espécies de flores)"
   ]
  },
  {
   "cell_type": "code",
   "execution_count": null,
   "metadata": {},
   "outputs": [],
   "source": [
    "# Dividindo o conjunto de dados em treinamento (80%) e teste (20%)\n",
    "X_train, X_test, y_train, y_test = train_test_split(X, y, test_size=0.2, random_state=42)\n",
    "\n",
    "# Normalizando os dados (padronização)\n",
    "scaler = StandardScaler()\n",
    "X_train = scaler.fit_transform(X_train)\n",
    "X_test = scaler.transform(X_test)"
   ]
  },
  {
   "cell_type": "code",
   "execution_count": null,
   "metadata": {},
   "outputs": [],
   "source": [
    "import tensorflow as tf\n",
    "\n",
    "# Construindo um modelo de rede neural\n",
    "model = tf.keras.models.Sequential([\n",
    "    tf.keras.layers.Dense(10, activation='relu', input_shape=(X_train.shape[1],)),  # Camada oculta com 10 neurônios\n",
    "    tf.keras.layers.Dense(10, activation='relu'),  # Outra camada oculta com 10 neurônios\n",
    "    tf.keras.layers.Dense(3, activation='softmax')  # Camada de saída para 3 classes (espécies de flores)\n",
    "])\n",
    "\n",
    "# Compilando o modelo\n",
    "model.compile(optimizer='adam',\n",
    "              loss='sparse_categorical_crossentropy',\n",
    "              metrics=['accuracy'])"
   ]
  },
  {
   "cell_type": "code",
   "execution_count": null,
   "metadata": {},
   "outputs": [],
   "source": [
    "# Treinando o modelo\n",
    "history = model.fit(X_train, y_train, epochs=50, batch_size=16, validation_split=0.1)"
   ]
  },
  {
   "cell_type": "code",
   "execution_count": null,
   "metadata": {},
   "outputs": [],
   "source": [
    "# Avaliando o modelo com dados de teste\n",
    "test_loss, test_accuracy = model.evaluate(X_test, y_test)\n",
    "print(f'Precisão no conjunto de teste: {test_accuracy * 100:.2f}%')"
   ]
  },
  {
   "cell_type": "code",
   "execution_count": null,
   "metadata": {},
   "outputs": [],
   "source": [
    "# Fazendo previsões com o modelo treinado\n",
    "predictions = model.predict(X_test)\n",
    "predicted_classes = tf.argmax(predictions, axis=1)\n",
    "\n",
    "# Verificando a acurácia das previsões\n",
    "accuracy = accuracy_score(y_test, predicted_classes)\n",
    "print(f'Acurácia das previsões: {accuracy * 100:.2f}%')"
   ]
  }
 ],
 "metadata": {
  "language_info": {
   "name": "python"
  }
 },
 "nbformat": 4,
 "nbformat_minor": 2
}
